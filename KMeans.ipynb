{
 "cells": [
  {
   "cell_type": "code",
   "execution_count": 1,
   "metadata": {},
   "outputs": [
    {
     "name": "stderr",
     "output_type": "stream",
     "text": [
      "Using TensorFlow backend.\n"
     ]
    }
   ],
   "source": [
    "from sklearn.svm import SVC\n",
    "from sklearn.cluster import KMeans\n",
    "from sklearn import metrics\n",
    "from scipy.spatial.distance import cdist\n",
    "from matplotlib.colors import ListedColormap\n",
    "import matplotlib.patches as mpatches\n",
    "\n",
    "from keras.models import Sequential\n",
    "from keras.layers.core import Dense\n",
    "import pickle\n",
    "import numpy as np\n",
    "import matplotlib.pyplot as plt\n",
    "import pandas as pd\n",
    "from sklearn.decomposition import PCA\n",
    "from sklearn import preprocessing\n",
    "from sklearn.model_selection import train_test_split\n",
    "from sklearn.metrics import classification_report,confusion_matrix\n",
    "from sklearn import preprocessing\n",
    "from sklearn.neighbors import KNeighborsClassifier"
   ]
  },
  {
   "cell_type": "code",
   "execution_count": 10,
   "metadata": {},
   "outputs": [],
   "source": [
    "def kmeans(k,X):\n",
    "    kmeans = KMeans(k)\n",
    "    kmeans.fit(X)\n",
    "    return kmeans\n",
    "def crearSVM(kernel,X_train,y_train):\n",
    "    svcl = SVC(kernel=kernel, gamma=10)\n",
    "    svcl.fit(X_train,y_train[:,0])\n",
    "    return svcl\n",
    "def consufionMatrixRed(svcl,X_t,y_t):\n",
    "    y_p = svcl.predict_classes(X_t)\n",
    "    print(confusion_matrix(y_t,y_p))\n",
    "def consufionMatrix(svcl,X_t,y_t):\n",
    "    y_p = svcl.predict(X_t)\n",
    "    print(confusion_matrix(y_t,y_p))    \n",
    "def consufionMatrixKNN(svcl,X_t,y_t):\n",
    "    y_p = svcl.predict(X_t)\n",
    "    y_p = pd.DataFrame(y_p).idxmax(axis=1)\n",
    "    print(confusion_matrix(y_t[:, 0],y_p.to_numpy()))\n",
    "    \n",
    "def crearModelo(X_train, y_train):\n",
    "    k = 5\n",
    "    knn = KNeighborsClassifier(k)\n",
    "    model= knn.fit(X_train,y_train)\n",
    "    return model\n",
    "def crearRed(X_train, y_train, dim):\n",
    "    model = Sequential()\n",
    "    #Agregar capas\n",
    "    model.add(Dense(5, input_dim = dim, activation = 'relu' ))\n",
    "    model.add(Dense(5, input_dim = dim, activation = 'tanh' ))\n",
    "    model.add(Dense(5, input_dim = dim, activation = 'sigmoid' ))\n",
    "    model.add(Dense(5, input_dim = dim, activation = 'sigmoid' ))\n",
    "    #relu = Rectificante Lineal\n",
    "    #sigmoid = Tangencial Hiperbolica\n",
    "    #tanh = Tangecial Hiperbolica\n",
    "    model.add(Dense(2, activation = 'softmax'))\n",
    "    model.compile(loss = 'mean_squared_error', optimizer = 'adam', metrics = ['binary_accuracy'])\n",
    "    model.fit(X_train, y_train, epochs = 50)\n",
    "    scores = model.evaluate(X_train, y_train)\n",
    "    print(scores)\n",
    "    return model\n",
    "def crearRedPCA(X_train, y_train, dim):\n",
    "    model = Sequential()\n",
    "    #Agregar capas\n",
    "    model.add(Dense(2, input_dim = dim, activation = 'relu' ))\n",
    "    model.add(Dense(2, input_dim = dim, activation = 'tanh' ))\n",
    "    model.add(Dense(2, input_dim = dim, activation = 'sigmoid' ))\n",
    "    model.add(Dense(2, input_dim = dim, activation = 'sigmoid' ))\n",
    "    #relu = Rectificante Lineal\n",
    "    #sigmoid = Tangencial Hiperbolica\n",
    "    #tanh = Tangecial Hiperbolica\n",
    "    model.add(Dense(2, activation = 'softmax'))\n",
    "    model.compile(loss = 'mean_squared_error', optimizer = 'adam', metrics = ['binary_accuracy'])\n",
    "    model.fit(X_train, y_train, epochs = 50)\n",
    "    scores = model.evaluate(X_train, y_train)\n",
    "    print(scores)\n",
    "    return model"
   ]
  },
  {
   "cell_type": "code",
   "execution_count": 78,
   "metadata": {},
   "outputs": [
    {
     "data": {
      "image/png": "[encoded data removed]",
      "text/plain": [
       "<Figure size 432x288 with 1 Axes>"
      ]
     },
     "metadata": {
      "needs_background": "light"
     },
     "output_type": "display_data"
    }
   ],
   "source": [
    "dataframe = pd.read_csv(\"nuevaData.csv\",sep=',')\n",
    "X=dataframe[['cap-shape','cap-surface','cap-color','bruises','odor','gill-size','gill-color','stalk-shape','stalk-root','stalk-surface-above-ring','stalk-surface-below-ring','stalk-color-above-ring','stalk-color-below-ring','ring-type','spore-print-color','population','habitat']].values\n",
    "\n",
    "colors = ['b', 'g', 'r']\n",
    "markers = ['o', 'v', 's']\n",
    "\n",
    "# k means determine k\n",
    "distortions = []\n",
    "K = range(1,10)\n",
    "for k in K:\n",
    "    kmeanModel = KMeans(n_clusters=k).fit(X)\n",
    "    kmeanModel.fit(X)\n",
    "    distortions.append(sum(np.min(cdist(X, kmeanModel.cluster_centers_, 'euclidean'), axis=1)) / X.shape[0])\n",
    "\n",
    "# Plot the elbow\n",
    "plt.plot(K, distortions, 'bx-')\n",
    "plt.xlabel('k')\n",
    "plt.ylabel('Distortion')\n",
    "plt.title('The Elbow Method showing the optimal k')\n",
    "plt.show()"
   ]
  },
  {
   "cell_type": "code",
   "execution_count": 12,
   "metadata": {},
   "outputs": [],
   "source": [
    "pca = PCA(2)\n",
    "pca.fit(X)  \n",
    "datospca = pca.transform(X)"
   ]
  },
  {
   "cell_type": "code",
   "execution_count": 13,
   "metadata": {},
   "outputs": [
    {
     "data": {
      "image/png": "[encoded data removed]",
      "text/plain": [
       "<Figure size 432x288 with 1 Axes>"
      ]
     },
     "metadata": {
      "needs_background": "light"
     },
     "output_type": "display_data"
    }
   ],
   "source": [
    "# k means determine k\n",
    "distortions = []\n",
    "K = range(1,10)\n",
    "for k in K:\n",
    "    kmeanModel = KMeans(n_clusters=k).fit(datospca)\n",
    "    kmeanModel.fit(datospca)\n",
    "    distortions.append(sum(np.min(cdist(datospca, kmeanModel.cluster_centers_, 'euclidean'), axis=1)) / datospca.shape[0])\n",
    "\n",
    "# Plot the elbow\n",
    "plt.plot(K, distortions, 'bx-')\n",
    "plt.xlabel('k')\n",
    "plt.ylabel('Distortion')\n",
    "plt.title('The Elbow Method showing the optimal k')\n",
    "plt.show()"
   ]
  },
  {
   "cell_type": "code",
   "execution_count": 14,
   "metadata": {},
   "outputs": [],
   "source": [
    "kmeans = kmeans(3,datospca)"
   ]
  },
  {
   "cell_type": "code",
   "execution_count": 15,
   "metadata": {},
   "outputs": [
    {
     "name": "stdout",
     "output_type": "stream",
     "text": [
      "[1 1 1 ... 1 0 1]\n"
     ]
    }
   ],
   "source": [
    "y_kmeans = kmeans.predict(datospca)\n",
    "print(y_kmeans)"
   ]
  },
  {
   "cell_type": "code",
   "execution_count": 16,
   "metadata": {},
   "outputs": [
    {
     "data": {
      "text/plain": [
       "<matplotlib.collections.PathCollection at 0x19238c7bf88>"
      ]
     },
     "execution_count": 16,
     "metadata": {},
     "output_type": "execute_result"
    },
    {
     "data": {
      "image/png": "[encoded data removed]",
      "text/plain": [
       "<Figure size 432x288 with 1 Axes>"
      ]
     },
     "metadata": {
      "needs_background": "light"
     },
     "output_type": "display_data"
    }
   ],
   "source": [
    "plt.scatter(datospca[:,0],datospca[:,1],c=y_kmeans,s=50,cmap='viridis')\n",
    "centroides = kmeans.cluster_centers_\n",
    "plt.scatter(centroides[:,0],centroides[:,1],c='black',s=200,alpha=0.5)"
   ]
  },
  {
   "cell_type": "code",
   "execution_count": 17,
   "metadata": {},
   "outputs": [
    {
     "name": "stdout",
     "output_type": "stream",
     "text": [
      "      cap-shape  cap-surface  cap-color  bruises  odor  gill-size  gill-color  \\\n",
      "0             3            5          8       11     1          8          15   \n",
      "1             3            5          7       11    12          4          15   \n",
      "2             4            5          9       11    13          4           8   \n",
      "3             3            7          9       11     1          8           8   \n",
      "4             3            5         10        6     8          4          15   \n",
      "...         ...          ...        ...      ...   ...        ...         ...   \n",
      "8119         15            5          8        6     8          4           7   \n",
      "8120          3            5          8        6     8          4           7   \n",
      "8121          6            5          8        6     8          4           8   \n",
      "8122         15            7          8        6     7          8           4   \n",
      "8123          3            5          8        6     8          4           7   \n",
      "\n",
      "      stalk-shape  stalk-root  stalk-surface-above-ring  \\\n",
      "0               2           2                         5   \n",
      "1               2          14                         5   \n",
      "2               2          14                         5   \n",
      "3               2           2                         5   \n",
      "4              11           2                         5   \n",
      "...           ...         ...                       ...   \n",
      "8119            2          -1                         5   \n",
      "8120            2          -1                         5   \n",
      "8121            2          -1                         5   \n",
      "8122           11          -1                         5   \n",
      "8123            2          -1                         5   \n",
      "\n",
      "      stalk-surface-below-ring  stalk-color-above-ring  \\\n",
      "0                            5                       9   \n",
      "1                            5                       9   \n",
      "2                            5                       9   \n",
      "3                            5                       9   \n",
      "4                            5                       9   \n",
      "...                        ...                     ...   \n",
      "8119                         5                      17   \n",
      "8120                         5                      17   \n",
      "8121                         5                      17   \n",
      "8122                        15                       9   \n",
      "8123                         5                      17   \n",
      "\n",
      "      stalk-color-below-ring  ring-type  spore-print-color  population  \\\n",
      "0                          9          1                 15           5   \n",
      "1                          9          1                  8           8   \n",
      "2                          9          1                  8           8   \n",
      "3                          9          1                 15           5   \n",
      "4                          9          2                  8          12   \n",
      "...                      ...        ...                ...         ...   \n",
      "8119                      17          1                  4          14   \n",
      "8120                      17          1                  4          18   \n",
      "8121                      17          1                  4          14   \n",
      "8122                       9          2                  9          18   \n",
      "8123                      17          1                 17          14   \n",
      "\n",
      "      habitat  Class  \n",
      "0          19      1  \n",
      "1          10      1  \n",
      "2          20      1  \n",
      "3          19      1  \n",
      "4          10      1  \n",
      "...       ...    ...  \n",
      "8119       13      1  \n",
      "8120       13      1  \n",
      "8121       13      1  \n",
      "8122       13      0  \n",
      "8123       13      1  \n",
      "\n",
      "[8124 rows x 18 columns]\n"
     ]
    }
   ],
   "source": [
    "d1=dataframe[['cap-shape','cap-surface','cap-color','bruises','odor','gill-size','gill-color','stalk-shape','stalk-root','stalk-surface-above-ring','stalk-surface-below-ring','stalk-color-above-ring','stalk-color-below-ring','ring-type','spore-print-color','population','habitat']]\n",
    "d2=pd.DataFrame({'Class': y_kmeans})\n",
    "d3=pd.concat([d1,d2], axis=1)\n",
    "\n",
    "print(d3)"
   ]
  },
  {
   "cell_type": "markdown",
   "metadata": {},
   "source": [
    "### SIN PCA"
   ]
  },
  {
   "cell_type": "code",
   "execution_count": 3,
   "metadata": {},
   "outputs": [],
   "source": [
    "df = pd.read_csv('nuevaData.csv', delimiter=',')\n",
    "X=df[['cap-shape','cap-surface','cap-color','bruises','odor','gill-size','gill-color','stalk-shape','stalk-root','stalk-surface-above-ring','stalk-surface-below-ring','stalk-color-above-ring','stalk-color-below-ring','ring-type','spore-print-color','population','habitat']].values\n",
    "y=df[['class']].values\n",
    "\n",
    "# #aux = []\n",
    "\n",
    "# for i in y[:,0]:\n",
    "#     if(i == 1):\n",
    "#         aux.append(0)\n",
    "#     else:\n",
    "#         aux.append(1)\n",
    "        \n",
    "# print(aux)\n",
    "\n",
    "# columnas = ['cap-shape','cap-surface','cap-color','bruises','odor','gill-size','gill-color','stalk-shape','stalk-root','stalk-surface-above-ring','stalk-surface-below-ring','stalk-color-above-ring','stalk-color-below-ring','ring-type','spore-print-color','population','habitat']\n",
    "\n",
    "# nueva_data = pd.DataFrame(X, columns = columnas)\n",
    "# nueva_data['class'] = aux\n",
    "# nueva_data.to_csv('nuevaData.csv', index = False, header = True, sep = ',')\n",
    "    \n",
    "X_scaled = preprocessing.scale(X)\n",
    "X_train,X_test,y_train,y_test= train_test_split(X_scaled,y,random_state = 0)\n",
    "\n",
    "\n",
    "y_train_d = np.array(pd.get_dummies(y_train[:, 0],columns=['class']))\n",
    "y_test_d = np.array(pd.get_dummies(y_test[:,0],columns=['class']))"
   ]
  },
  {
   "cell_type": "markdown",
   "metadata": {},
   "source": [
    "### SVC"
   ]
  },
  {
   "cell_type": "code",
   "execution_count": 15,
   "metadata": {},
   "outputs": [],
   "source": [
    "kernel = \"rbf\"\n",
    "#kernel = \"linear\"\n",
    "#kernel = \"poly\"\n",
    "#kernel = \"sigmoid\"\n",
    "modeloSVM = crearSVM(kernel,X_train,y_train)"
   ]
  },
  {
   "cell_type": "code",
   "execution_count": 16,
   "metadata": {},
   "outputs": [
    {
     "name": "stdout",
     "output_type": "stream",
     "text": [
      "[[2946    0]\n",
      " [   0 3147]]\n",
      "[[970   0]\n",
      " [116 945]]\n"
     ]
    }
   ],
   "source": [
    "consufionMatrix(modeloSVM,X_train,y_train)\n",
    "consufionMatrix(modeloSVM,X_test,y_test)"
   ]
  },
  {
   "cell_type": "code",
   "execution_count": 17,
   "metadata": {},
   "outputs": [],
   "source": [
    "filename= 'modeloSVM.h5'\n",
    "pickle.dump(modeloSVM, open(filename,'wb'))"
   ]
  },
  {
   "cell_type": "markdown",
   "metadata": {},
   "source": [
    "### KNN"
   ]
  },
  {
   "cell_type": "code",
   "execution_count": 73,
   "metadata": {},
   "outputs": [
    {
     "data": {
      "text/plain": [
       "<matplotlib.collections.PathCollection at 0x1923d6ded88>"
      ]
     },
     "execution_count": 73,
     "metadata": {},
     "output_type": "execute_result"
    },
    {
     "data": {
      "image/png": "[encoded data removed]",
      "text/plain": [
       "<Figure size 432x288 with 1 Axes>"
      ]
     },
     "metadata": {
      "needs_background": "light"
     },
     "output_type": "display_data"
    }
   ],
   "source": [
    "k_rango = range(1,20)\n",
    "scores=[]\n",
    "for k in k_rango:\n",
    "    knn = KNeighborsClassifier(n_neighbors = k)\n",
    "    knn.fit(X_train,y_train_d)\n",
    "    scores.append(knn.score(X_test,y_test_d))\n",
    "plt.figure()\n",
    "plt.xlabel('k')\n",
    "plt.ylabel('ACC')\n",
    "plt.scatter(k_rango,scores)"
   ]
  },
  {
   "cell_type": "code",
   "execution_count": 74,
   "metadata": {},
   "outputs": [
    {
     "data": {
      "text/plain": [
       "Text(0, 0.5, 'ERROR')"
      ]
     },
     "execution_count": 74,
     "metadata": {},
     "output_type": "execute_result"
    },
    {
     "data": {
      "image/png": "[encoded data removed]",
      "text/plain": [
       "<Figure size 432x288 with 1 Axes>"
      ]
     },
     "metadata": {
      "needs_background": "light"
     },
     "output_type": "display_data"
    }
   ],
   "source": [
    "k_rango = range(1,20)\n",
    "error_rate=[]\n",
    "for k in k_rango:\n",
    "    knn = KNeighborsClassifier(n_neighbors = k)\n",
    "    knn.fit(X_train,y_train_d)\n",
    "    pred_k = knn.predict(X_test)\n",
    "    error_rate.append(np.mean(pred_k!=y_test_d))\n",
    "plt.figure()\n",
    "plt.plot(k_rango,error_rate,color='blue',linestyle='dashed',marker='o',markerfacecolor='red',markersize='8')\n",
    "plt.xlabel('k')\n",
    "plt.ylabel('ERROR')"
   ]
  },
  {
   "cell_type": "code",
   "execution_count": 80,
   "metadata": {},
   "outputs": [
    {
     "name": "stdout",
     "output_type": "stream",
     "text": [
      "ACC Train 0.9978664040702445\n",
      "ACC Test 0.999015263417036\n"
     ]
    }
   ],
   "source": [
    "model=crearModelo(X_train,y_train_d)\n",
    "print('ACC Train',knn.score(X_train,y_train_d))\n",
    "print('ACC Test',knn.score(X_test,y_test_d))"
   ]
  },
  {
   "cell_type": "code",
   "execution_count": 38,
   "metadata": {},
   "outputs": [
    {
     "name": "stdout",
     "output_type": "stream",
     "text": [
      "[[1 0]\n",
      " [0 1]\n",
      " [0 1]\n",
      " ...\n",
      " [1 0]\n",
      " [0 1]\n",
      " [0 1]]\n"
     ]
    }
   ],
   "source": [
    "\n",
    "pred = knn.predict(X_test)\n",
    "print(pred)"
   ]
  },
  {
   "cell_type": "code",
   "execution_count": 81,
   "metadata": {},
   "outputs": [
    {
     "name": "stdout",
     "output_type": "stream",
     "text": [
      "[[2942    4]\n",
      " [   0 3147]]\n",
      "[[ 970    0]\n",
      " [   0 1061]]\n"
     ]
    }
   ],
   "source": [
    "consufionMatrixKNN(model,X_train,y_train)\n",
    "consufionMatrixKNN(model,X_test,y_test)"
   ]
  },
  {
   "cell_type": "code",
   "execution_count": 82,
   "metadata": {},
   "outputs": [],
   "source": [
    "filename= 'modeloKNN.h5'\n",
    "pickle.dump(model, open(filename,'wb'))"
   ]
  },
  {
   "cell_type": "markdown",
   "metadata": {},
   "source": [
    "### Redes Neuronales"
   ]
  },
  {
   "cell_type": "code",
   "execution_count": 89,
   "metadata": {},
   "outputs": [
    {
     "name": "stdout",
     "output_type": "stream",
     "text": [
      "Epoch 1/50\n",
      "6093/6093 [==============================] - 0s 74us/step - loss: 0.2253 - binary_accuracy: 0.7724\n",
      "Epoch 2/50\n",
      "6093/6093 [==============================] - 0s 47us/step - loss: 0.1233 - binary_accuracy: 0.9158\n",
      "Epoch 3/50\n",
      "6093/6093 [==============================] - 0s 53us/step - loss: 0.0646 - binary_accuracy: 0.9412\n",
      "Epoch 4/50\n",
      "6093/6093 [==============================] - 0s 50us/step - loss: 0.0288 - binary_accuracy: 0.9890\n",
      "Epoch 5/50\n",
      "6093/6093 [==============================] - 0s 53us/step - loss: 0.0150 - binary_accuracy: 0.9929\n",
      "Epoch 6/50\n",
      "6093/6093 [==============================] - 0s 58us/step - loss: 0.0075 - binary_accuracy: 0.9975\n",
      "Epoch 7/50\n",
      "6093/6093 [==============================] - 0s 48us/step - loss: 0.0040 - binary_accuracy: 0.9995\n",
      "Epoch 8/50\n",
      "6093/6093 [==============================] - 0s 61us/step - loss: 0.0026 - binary_accuracy: 0.9997\n",
      "Epoch 9/50\n",
      "6093/6093 [==============================] - 0s 48us/step - loss: 0.0018 - binary_accuracy: 1.0000\n",
      "Epoch 10/50\n",
      "6093/6093 [==============================] - 0s 48us/step - loss: 0.0014 - binary_accuracy: 1.0000\n",
      "Epoch 11/50\n",
      "6093/6093 [==============================] - 0s 55us/step - loss: 0.0011 - binary_accuracy: 1.0000\n",
      "Epoch 12/50\n",
      "6093/6093 [==============================] - 0s 52us/step - loss: 8.5087e-04 - binary_accuracy: 1.0000\n",
      "Epoch 13/50\n",
      "6093/6093 [==============================] - 0s 50us/step - loss: 6.9618e-04 - binary_accuracy: 1.0000\n",
      "Epoch 14/50\n",
      "6093/6093 [==============================] - 0s 49us/step - loss: 5.7874e-04 - binary_accuracy: 1.0000\n",
      "Epoch 15/50\n",
      "6093/6093 [==============================] - 0s 49us/step - loss: 4.8695e-04 - binary_accuracy: 1.0000\n",
      "Epoch 16/50\n",
      "6093/6093 [==============================] - 0s 50us/step - loss: 4.1377e-04 - binary_accuracy: 1.0000\n",
      "Epoch 17/50\n",
      "6093/6093 [==============================] - 0s 49us/step - loss: 3.5452e-04 - binary_accuracy: 1.0000\n",
      "Epoch 18/50\n",
      "6093/6093 [==============================] - 0s 50us/step - loss: 3.0588e-04 - binary_accuracy: 1.0000\n",
      "Epoch 19/50\n",
      "6093/6093 [==============================] - 0s 50us/step - loss: 2.6549e-04 - binary_accuracy: 1.0000\n",
      "Epoch 20/50\n",
      "6093/6093 [==============================] - 0s 57us/step - loss: 2.3160e-04 - binary_accuracy: 1.0000\n",
      "Epoch 21/50\n",
      "6093/6093 [==============================] - 0s 49us/step - loss: 2.0290e-04 - binary_accuracy: 1.0000\n",
      "Epoch 22/50\n",
      "6093/6093 [==============================] - 0s 51us/step - loss: 1.7845e-04 - binary_accuracy: 1.0000\n",
      "Epoch 23/50\n",
      "6093/6093 [==============================] - 0s 57us/step - loss: 1.5744e-04 - binary_accuracy: 1.0000\n",
      "Epoch 24/50\n",
      "6093/6093 [==============================] - 0s 50us/step - loss: 1.3934e-04 - binary_accuracy: 1.0000\n",
      "Epoch 25/50\n",
      "6093/6093 [==============================] - 0s 54us/step - loss: 1.2361e-04 - binary_accuracy: 1.0000\n",
      "Epoch 26/50\n",
      "6093/6093 [==============================] - 0s 49us/step - loss: 1.0993e-04 - binary_accuracy: 1.0000\n",
      "Epoch 27/50\n",
      "6093/6093 [==============================] - 0s 56us/step - loss: 9.7950e-05 - binary_accuracy: 1.0000\n",
      "Epoch 28/50\n",
      "6093/6093 [==============================] - 0s 52us/step - loss: 8.7426e-05 - binary_accuracy: 1.0000\n",
      "Epoch 29/50\n",
      "6093/6093 [==============================] - 0s 52us/step - loss: 7.8162e-05 - binary_accuracy: 1.0000\n",
      "Epoch 30/50\n",
      "6093/6093 [==============================] - 0s 53us/step - loss: 6.9987e-05 - binary_accuracy: 1.0000\n",
      "Epoch 31/50\n",
      "6093/6093 [==============================] - 0s 49us/step - loss: 6.2744e-05 - binary_accuracy: 1.0000\n",
      "Epoch 32/50\n",
      "6093/6093 [==============================] - 0s 48us/step - loss: 5.6314e-05 - binary_accuracy: 1.0000\n",
      "Epoch 33/50\n",
      "6093/6093 [==============================] - 0s 49us/step - loss: 5.0597e-05 - binary_accuracy: 1.0000\n",
      "Epoch 34/50\n",
      "6093/6093 [==============================] - 0s 50us/step - loss: 4.5506e-05 - binary_accuracy: 1.0000\n",
      "Epoch 35/50\n",
      "6093/6093 [==============================] - 0s 56us/step - loss: 4.0961e-05 - binary_accuracy: 1.0000\n",
      "Epoch 36/50\n",
      "6093/6093 [==============================] - 0s 49us/step - loss: 3.6900e-05 - binary_accuracy: 1.0000\n",
      "Epoch 37/50\n",
      "6093/6093 [==============================] - 0s 51us/step - loss: 3.3267e-05 - binary_accuracy: 1.0000\n",
      "Epoch 38/50\n",
      "6093/6093 [==============================] - 0s 47us/step - loss: 3.0008e-05 - binary_accuracy: 1.0000\n",
      "Epoch 39/50\n",
      "6093/6093 [==============================] - 0s 55us/step - loss: 2.7085e-05 - binary_accuracy: 1.0000\n",
      "Epoch 40/50\n",
      "6093/6093 [==============================] - 0s 48us/step - loss: 2.4461e-05 - binary_accuracy: 1.0000\n",
      "Epoch 41/50\n",
      "6093/6093 [==============================] - 0s 48us/step - loss: 2.2101e-05 - binary_accuracy: 1.0000\n",
      "Epoch 42/50\n",
      "6093/6093 [==============================] - 0s 51us/step - loss: 1.9977e-05 - binary_accuracy: 1.0000\n",
      "Epoch 43/50\n",
      "6093/6093 [==============================] - 0s 49us/step - loss: 1.8065e-05 - binary_accuracy: 1.0000\n",
      "Epoch 44/50\n",
      "6093/6093 [==============================] - 0s 55us/step - loss: 1.6342e-05 - binary_accuracy: 1.0000\n",
      "Epoch 45/50\n",
      "6093/6093 [==============================] - 0s 50us/step - loss: 1.4788e-05 - binary_accuracy: 1.0000\n",
      "Epoch 46/50\n",
      "6093/6093 [==============================] - 0s 53us/step - loss: 1.3387e-05 - binary_accuracy: 1.0000\n",
      "Epoch 47/50\n",
      "6093/6093 [==============================] - 0s 49us/step - loss: 1.2122e-05 - binary_accuracy: 1.0000\n",
      "Epoch 48/50\n",
      "6093/6093 [==============================] - 0s 54us/step - loss: 1.0979e-05 - binary_accuracy: 1.0000\n",
      "Epoch 49/50\n",
      "6093/6093 [==============================] - 0s 54us/step - loss: 9.9460e-06 - binary_accuracy: 1.0000\n",
      "Epoch 50/50\n",
      "6093/6093 [==============================] - 0s 48us/step - loss: 9.0124e-06 - binary_accuracy: 1.0000\n",
      "6093/6093 [==============================] - 0s 25us/step\n",
      "[8.571157079565285e-06, 1.0]\n"
     ]
    }
   ],
   "source": [
    "Red=crearRed(X_train, y_train_d, 17)"
   ]
  },
  {
   "cell_type": "code",
   "execution_count": 91,
   "metadata": {},
   "outputs": [
    {
     "name": "stdout",
     "output_type": "stream",
     "text": [
      "[[2946    0]\n",
      " [   0 3147]]\n",
      "[[ 970    0]\n",
      " [   0 1061]]\n"
     ]
    }
   ],
   "source": [
    "consufionMatrixRed(Red,X_train,y_train)\n",
    "consufionMatrixRed(Red,X_test,y_test)"
   ]
  },
  {
   "cell_type": "code",
   "execution_count": 92,
   "metadata": {},
   "outputs": [],
   "source": [
    "filename= 'modeloRN.h5'\n",
    "pickle.dump(Red, open(filename,'wb'))"
   ]
  },
  {
   "cell_type": "markdown",
   "metadata": {},
   "source": [
    "### CON PCA"
   ]
  },
  {
   "cell_type": "code",
   "execution_count": 94,
   "metadata": {},
   "outputs": [],
   "source": [
    "pca = PCA(2)\n",
    "pca.fit(X)  \n",
    "#pickle.dump(pca, open('ModeloPCA.h5','wb'))\n",
    "datospca = pca.transform(X)\n",
    "X_trainPCA,X_testPCA,y_trainPCA,y_testPCA= train_test_split(datospca,y,random_state = 0)\n",
    "\n",
    "y_trainPCA_d = np.array(pd.get_dummies(y_trainPCA[:, 0],columns=['class']))\n",
    "y_testPCA_d = np.array(pd.get_dummies(y_testPCA[:,0],columns=['class']))"
   ]
  },
  {
   "cell_type": "markdown",
   "metadata": {},
   "source": [
    "### SVC"
   ]
  },
  {
   "cell_type": "code",
   "execution_count": 98,
   "metadata": {},
   "outputs": [],
   "source": [
    "#kernel = \"rbf\"\n",
    "#kernel = \"linear\"\n",
    "#kernel = \"poly\"\n",
    "kernel = \"sigmoid\"\n",
    "modeloSVM = crearSVM(kernel,X_trainPCA,y_trainPCA[: , 0])"
   ]
  },
  {
   "cell_type": "code",
   "execution_count": 99,
   "metadata": {},
   "outputs": [
    {
     "name": "stdout",
     "output_type": "stream",
     "text": [
      "[[1558 1388]\n",
      " [1400 1747]]\n",
      "[[526 444]\n",
      " [465 596]]\n"
     ]
    }
   ],
   "source": [
    "consufionMatrix(modeloSVM,X_trainPCA,y_trainPCA)\n",
    "consufionMatrix(modeloSVM,X_testPCA,y_testPCA)"
   ]
  },
  {
   "cell_type": "code",
   "execution_count": 100,
   "metadata": {},
   "outputs": [],
   "source": [
    "filename= 'modeloSVMPCA.h5'\n",
    "pickle.dump(modeloSVM, open(filename,'wb'))"
   ]
  },
  {
   "cell_type": "markdown",
   "metadata": {},
   "source": [
    "### KNN"
   ]
  },
  {
   "cell_type": "code",
   "execution_count": 101,
   "metadata": {},
   "outputs": [
    {
     "name": "stdout",
     "output_type": "stream",
     "text": [
      "[[2831  115]\n",
      " [  90 3057]]\n",
      "[[ 916   54]\n",
      " [  54 1007]]\n"
     ]
    }
   ],
   "source": [
    "model=crearModelo(X_trainPCA,y_trainPCA_d)\n",
    "consufionMatrixKNN(model,X_trainPCA,y_trainPCA)\n",
    "consufionMatrixKNN(model,X_testPCA,y_testPCA)"
   ]
  },
  {
   "cell_type": "code",
   "execution_count": 102,
   "metadata": {},
   "outputs": [],
   "source": [
    "filename= 'modeloKNNPCA.h5'\n",
    "pickle.dump(model, open(filename,'wb'))"
   ]
  },
  {
   "cell_type": "markdown",
   "metadata": {},
   "source": [
    "### Redes Neuronales"
   ]
  },
  {
   "cell_type": "code",
   "execution_count": 107,
   "metadata": {},
   "outputs": [
    {
     "name": "stdout",
     "output_type": "stream",
     "text": [
      "Epoch 1/50\n",
      "6093/6093 [==============================] - 0s 79us/step - loss: 0.2499 - binary_accuracy: 0.5165\n",
      "Epoch 2/50\n",
      "6093/6093 [==============================] - 0s 52us/step - loss: 0.2486 - binary_accuracy: 0.5165\n",
      "Epoch 3/50\n",
      "6093/6093 [==============================] - 0s 51us/step - loss: 0.2430 - binary_accuracy: 0.5936\n",
      "Epoch 4/50\n",
      "6093/6093 [==============================] - 0s 48us/step - loss: 0.2240 - binary_accuracy: 0.8182\n",
      "Epoch 5/50\n",
      "6093/6093 [==============================] - 0s 50us/step - loss: 0.1953 - binary_accuracy: 0.8191\n",
      "Epoch 6/50\n",
      "6093/6093 [==============================] - 0s 49us/step - loss: 0.1719 - binary_accuracy: 0.8241\n",
      "Epoch 7/50\n",
      "6093/6093 [==============================] - 0s 50us/step - loss: 0.1575 - binary_accuracy: 0.8260\n",
      "Epoch 8/50\n",
      "6093/6093 [==============================] - 0s 49us/step - loss: 0.1496 - binary_accuracy: 0.8273\n",
      "Epoch 9/50\n",
      "6093/6093 [==============================] - 0s 50us/step - loss: 0.1457 - binary_accuracy: 0.8277\n",
      "Epoch 10/50\n",
      "6093/6093 [==============================] - 0s 49us/step - loss: 0.1436 - binary_accuracy: 0.8287\n",
      "Epoch 11/50\n",
      "6093/6093 [==============================] - 0s 49us/step - loss: 0.1425 - binary_accuracy: 0.8283\n",
      "Epoch 12/50\n",
      "6093/6093 [==============================] - 0s 53us/step - loss: 0.1420 - binary_accuracy: 0.8280\n",
      "Epoch 13/50\n",
      "6093/6093 [==============================] - 0s 50us/step - loss: 0.1417 - binary_accuracy: 0.8282\n",
      "Epoch 14/50\n",
      "6093/6093 [==============================] - 0s 55us/step - loss: 0.1415 - binary_accuracy: 0.8280\n",
      "Epoch 15/50\n",
      "6093/6093 [==============================] - 0s 49us/step - loss: 0.1414 - binary_accuracy: 0.8282\n",
      "Epoch 16/50\n",
      "6093/6093 [==============================] - 0s 49us/step - loss: 0.1413 - binary_accuracy: 0.8280\n",
      "Epoch 17/50\n",
      "6093/6093 [==============================] - 0s 49us/step - loss: 0.1413 - binary_accuracy: 0.8280\n",
      "Epoch 18/50\n",
      "6093/6093 [==============================] - 0s 49us/step - loss: 0.1412 - binary_accuracy: 0.8282\n",
      "Epoch 19/50\n",
      "6093/6093 [==============================] - 0s 54us/step - loss: 0.1412 - binary_accuracy: 0.8282\n",
      "Epoch 20/50\n",
      "6093/6093 [==============================] - 0s 49us/step - loss: 0.1411 - binary_accuracy: 0.8282\n",
      "Epoch 21/50\n",
      "6093/6093 [==============================] - 0s 53us/step - loss: 0.1412 - binary_accuracy: 0.8278\n",
      "Epoch 22/50\n",
      "6093/6093 [==============================] - 0s 49us/step - loss: 0.1412 - binary_accuracy: 0.8280\n",
      "Epoch 23/50\n",
      "6093/6093 [==============================] - 0s 49us/step - loss: 0.1411 - binary_accuracy: 0.8283\n",
      "Epoch 24/50\n",
      "6093/6093 [==============================] - 0s 51us/step - loss: 0.1411 - binary_accuracy: 0.8283\n",
      "Epoch 25/50\n",
      "6093/6093 [==============================] - 0s 49us/step - loss: 0.1410 - binary_accuracy: 0.8282\n",
      "Epoch 26/50\n",
      "6093/6093 [==============================] - 0s 49us/step - loss: 0.1409 - binary_accuracy: 0.8285\n",
      "Epoch 27/50\n",
      "6093/6093 [==============================] - 0s 52us/step - loss: 0.1407 - binary_accuracy: 0.8278\n",
      "Epoch 28/50\n",
      "6093/6093 [==============================] - 0s 49us/step - loss: 0.1405 - binary_accuracy: 0.8287\n",
      "Epoch 29/50\n",
      "6093/6093 [==============================] - 0s 49us/step - loss: 0.1400 - binary_accuracy: 0.8290\n",
      "Epoch 30/50\n",
      "6093/6093 [==============================] - 0s 50us/step - loss: 0.1389 - binary_accuracy: 0.8298\n",
      "Epoch 31/50\n",
      "6093/6093 [==============================] - 0s 55us/step - loss: 0.1381 - binary_accuracy: 0.8321\n",
      "Epoch 32/50\n",
      "6093/6093 [==============================] - 0s 50us/step - loss: 0.1373 - binary_accuracy: 0.8333\n",
      "Epoch 33/50\n",
      "6093/6093 [==============================] - 0s 57us/step - loss: 0.1368 - binary_accuracy: 0.8333\n",
      "Epoch 34/50\n",
      "6093/6093 [==============================] - 0s 49us/step - loss: 0.1364 - binary_accuracy: 0.8352\n",
      "Epoch 35/50\n",
      "6093/6093 [==============================] - 0s 49us/step - loss: 0.1361 - binary_accuracy: 0.8337\n",
      "Epoch 36/50\n",
      "6093/6093 [==============================] - 0s 55us/step - loss: 0.1355 - binary_accuracy: 0.8354\n",
      "Epoch 37/50\n",
      "6093/6093 [==============================] - 0s 49us/step - loss: 0.1353 - binary_accuracy: 0.8329\n",
      "Epoch 38/50\n",
      "6093/6093 [==============================] - 0s 50us/step - loss: 0.1347 - binary_accuracy: 0.8344\n",
      "Epoch 39/50\n",
      "6093/6093 [==============================] - 0s 48us/step - loss: 0.1338 - binary_accuracy: 0.8342\n",
      "Epoch 40/50\n",
      "6093/6093 [==============================] - 0s 49us/step - loss: 0.1329 - binary_accuracy: 0.8342\n",
      "Epoch 41/50\n",
      "6093/6093 [==============================] - 0s 48us/step - loss: 0.1322 - binary_accuracy: 0.8360\n",
      "Epoch 42/50\n",
      "6093/6093 [==============================] - 0s 49us/step - loss: 0.1314 - binary_accuracy: 0.8359\n",
      "Epoch 43/50\n",
      "6093/6093 [==============================] - 0s 50us/step - loss: 0.1309 - binary_accuracy: 0.8359\n",
      "Epoch 44/50\n",
      "6093/6093 [==============================] - 0s 54us/step - loss: 0.1307 - binary_accuracy: 0.8362\n",
      "Epoch 45/50\n",
      "6093/6093 [==============================] - 0s 49us/step - loss: 0.1304 - binary_accuracy: 0.8374\n",
      "Epoch 46/50\n",
      "6093/6093 [==============================] - 0s 56us/step - loss: 0.1303 - binary_accuracy: 0.8380\n",
      "Epoch 47/50\n",
      "6093/6093 [==============================] - 0s 56us/step - loss: 0.1301 - binary_accuracy: 0.8378\n",
      "Epoch 48/50\n",
      "6093/6093 [==============================] - 0s 49us/step - loss: 0.1300 - binary_accuracy: 0.8375\n",
      "Epoch 49/50\n",
      "6093/6093 [==============================] - 0s 49us/step - loss: 0.1299 - binary_accuracy: 0.8387\n",
      "Epoch 50/50\n",
      "6093/6093 [==============================] - 0s 49us/step - loss: 0.1298 - binary_accuracy: 0.8385\n",
      "6093/6093 [==============================] - 0s 26us/step\n",
      "[0.12956950438251524, 0.8385031819343567]\n"
     ]
    }
   ],
   "source": [
    "Red=crearRedPCA(X_trainPCA,y_trainPCA_d,2)"
   ]
  },
  {
   "cell_type": "code",
   "execution_count": 108,
   "metadata": {},
   "outputs": [
    {
     "name": "stdout",
     "output_type": "stream",
     "text": [
      "[[2305  641]\n",
      " [ 343 2804]]\n",
      "[[776 194]\n",
      " [102 959]]\n"
     ]
    }
   ],
   "source": [
    "consufionMatrixRed(Red,X_trainPCA,y_trainPCA)\n",
    "consufionMatrixRed(Red,X_testPCA,y_testPCA)"
   ]
  },
  {
   "cell_type": "code",
   "execution_count": 109,
   "metadata": {},
   "outputs": [],
   "source": [
    "filename= 'modeloRNPCA.h5'\n",
    "pickle.dump(Red, open(filename,'wb'))"
   ]
  },
  {
   "cell_type": "code",
   "execution_count": null,
   "metadata": {},
   "outputs": [],
   "source": []
  }
 ],
 "metadata": {
  "kernelspec": {
   "display_name": "Python 3",
   "language": "python",
   "name": "python3"
  },
  "language_info": {
   "codemirror_mode": {
    "name": "ipython",
    "version": 3
   },
   "file_extension": ".py",
   "mimetype": "text/x-python",
   "name": "python",
   "nbconvert_exporter": "python",
   "pygments_lexer": "ipython3",
   "version": "3.7.4"
  }
 },
 "nbformat": 4,
 "nbformat_minor": 2
}
